{
 "cells": [
  {
   "cell_type": "code",
   "execution_count": 1,
   "metadata": {
    "collapsed": true
   },
   "outputs": [],
   "source": [
    "import nltk\n",
    "from nltk.corpus import brown\n",
    "\n",
    "#importing different taggers\n",
    "\n",
    "from nltk import DefaultTagger\n",
    "from nltk import UnigramTagger\n",
    "from nltk import AffixTagger\n",
    "from nltk import NgramTagger"
   ]
  },
  {
   "cell_type": "code",
   "execution_count": 3,
   "metadata": {
    "collapsed": true
   },
   "outputs": [],
   "source": [
    "brown_news_tagged = brown.tagged_sents(categories='news', tagset='universal')\n",
    "#train-test split\n",
    "brown_train = brown_news_tagged[100:]\n",
    "brown_test = brown_news_tagged[:100]"
   ]
  },
  {
   "cell_type": "code",
   "execution_count": 4,
   "metadata": {
    "collapsed": false
   },
   "outputs": [
    {
     "data": {
      "text/plain": [
       "[(u'The', u'DET'),\n",
       " (u'Fulton', None),\n",
       " (u'County', u'NOUN'),\n",
       " (u'Grand', u'ADJ'),\n",
       " (u'Jury', u'NOUN'),\n",
       " (u'said', u'VERB'),\n",
       " (u'Friday', u'NOUN'),\n",
       " (u'an', u'DET'),\n",
       " (u'investigation', u'NOUN'),\n",
       " (u'of', u'ADP'),\n",
       " (u\"Atlanta's\", u'NOUN'),\n",
       " (u'recent', u'ADJ'),\n",
       " (u'primary', u'NOUN'),\n",
       " (u'election', u'NOUN'),\n",
       " (u'produced', u'VERB'),\n",
       " (u'``', u'.'),\n",
       " (u'no', u'DET'),\n",
       " (u'evidence', u'NOUN'),\n",
       " (u\"''\", u'.'),\n",
       " (u'that', u'ADP'),\n",
       " (u'any', u'DET'),\n",
       " (u'irregularities', None),\n",
       " (u'took', u'VERB'),\n",
       " (u'place', u'NOUN'),\n",
       " (u'.', u'.')]"
      ]
     },
     "execution_count": 4,
     "metadata": {},
     "output_type": "execute_result"
    }
   ],
   "source": [
    "from nltk import untag\n",
    "ut1 = UnigramTagger(brown_train)\n",
    "ut1.tag(untag(brown_test[0]))"
   ]
  },
  {
   "cell_type": "code",
   "execution_count": 5,
   "metadata": {
    "collapsed": false
   },
   "outputs": [
    {
     "name": "stdout",
     "output_type": "stream",
     "text": [
      "Unigram tagger accuracy: 88.9%\n"
     ]
    }
   ],
   "source": [
    "print('Unigram tagger accuracy: %4.1f%%' % ( 100.0 * ut1.evaluate(brown_test)))"
   ]
  },
  {
   "cell_type": "code",
   "execution_count": 6,
   "metadata": {
    "collapsed": false
   },
   "outputs": [
    {
     "name": "stdout",
     "output_type": "stream",
     "text": [
      "Unigram tagger with backoff accuracy: 94.5%\n"
     ]
    }
   ],
   "source": [
    "DT_noun = DefaultTagger('NOUN')\n",
    "ut2 = UnigramTagger(brown_train, backoff=DT_noun)#using default tagger as backoff\n",
    "print('Unigram tagger with backoff accuracy: %4.1f%%' % ( 100.0 * ut2.evaluate(brown_test)))"
   ]
  },
  {
   "cell_type": "code",
   "execution_count": 7,
   "metadata": {
    "collapsed": false
   },
   "outputs": [
    {
     "name": "stdout",
     "output_type": "stream",
     "text": [
      "Regexp accuracy 48.2%\n"
     ]
    }
   ],
   "source": [
    "from nltk import RegexpTagger\n",
    "\n",
    "regexp_tagger = RegexpTagger(\n",
    "     [(r'^-?[0-9]+(.[0-9]+)?$', 'NUM'),   # cardinal numbers\n",
    "      (r'(The|the|A|a|An|an)$', 'DET'),   # articles\n",
    "      (r'.*able$', 'ADJ'),                # adjectives\n",
    "      (r'.*ness$', 'NOUN'),               # nouns formed from adjectives\n",
    "      (r'.*ly$', 'ADV'),                  # adverbs\n",
    "      (r'.*s$', 'NOUN'),                  # plural nouns\n",
    "      (r'.*ing$', 'VERB'),                # gerunds\n",
    "      (r'.*ed$', 'VERB'),                 # past tense verbs\n",
    "      (r'.*', 'NOUN')                     # nouns (default)\n",
    "])\n",
    "\n",
    "print('Regexp accuracy %4.1f%%' % (100.0 * regexp_tagger.evaluate(brown_test)))"
   ]
  },
  {
   "cell_type": "code",
   "execution_count": 8,
   "metadata": {
    "collapsed": false
   },
   "outputs": [
    {
     "name": "stdout",
     "output_type": "stream",
     "text": [
      "at1 Accuracy: 42.3%\n",
      "at2 Accuracy: 52.9%\n"
     ]
    }
   ],
   "source": [
    "at1 = AffixTagger(brown_train,backoff=DT_noun)\n",
    "at2 = AffixTagger(brown_train,backoff=regexp_tagger)\n",
    "\n",
    "print(\"at1 Accuracy: %4.1f%%\" % (100.0 * at1.evaluate(brown_test)))\n",
    "print(\"at2 Accuracy: %4.1f%%\" % (100.0 * at2.evaluate(brown_test)))"
   ]
  },
  {
   "cell_type": "code",
   "execution_count": 9,
   "metadata": {
    "collapsed": false
   },
   "outputs": [
    {
     "name": "stdout",
     "output_type": "stream",
     "text": [
      "Unigram with affix backoff accuracy: 95.5%\n"
     ]
    }
   ],
   "source": [
    "ut3 = UnigramTagger(brown_train, backoff=at2)\n",
    "print('Unigram with affix backoff accuracy: %4.1f%%' % (100.0 * ut3.evaluate(brown_test)))"
   ]
  },
  {
   "cell_type": "code",
   "execution_count": 12,
   "metadata": {
    "collapsed": false
   },
   "outputs": [
    {
     "data": {
      "text/plain": [
       "0.21031746031746032"
      ]
     },
     "execution_count": 12,
     "metadata": {},
     "output_type": "execute_result"
    }
   ],
   "source": [
    "# Ngram tagger \n",
    "ct1 = NgramTagger(2, brown_train)\n",
    "ct1.evaluate(brown_test)"
   ]
  },
  {
   "cell_type": "code",
   "execution_count": 13,
   "metadata": {
    "collapsed": false
   },
   "outputs": [
    {
     "data": {
      "text/plain": [
       "0.9616402116402116"
      ]
     },
     "execution_count": 13,
     "metadata": {},
     "output_type": "execute_result"
    }
   ],
   "source": [
    "#with backoff\n",
    "ct2 = NgramTagger(2, brown_train,backoff = ut3)\n",
    "ct2.evaluate(brown_test)"
   ]
  },
  {
   "cell_type": "code",
   "execution_count": 14,
   "metadata": {
    "collapsed": false
   },
   "outputs": [
    {
     "name": "stdout",
     "output_type": "stream",
     "text": [
      "Final Accuracy: 96.16%\n"
     ]
    }
   ],
   "source": [
    "print \"Final Accuracy: %4.2f%%\" %(100*ct2.evaluate(brown_test))"
   ]
  }
 ],
 "metadata": {
  "kernelspec": {
   "display_name": "Python 2",
   "language": "python",
   "name": "python2"
  },
  "language_info": {
   "codemirror_mode": {
    "name": "ipython",
    "version": 2
   },
   "file_extension": ".py",
   "mimetype": "text/x-python",
   "name": "python",
   "nbconvert_exporter": "python",
   "pygments_lexer": "ipython2",
   "version": "2.7.13"
  }
 },
 "nbformat": 4,
 "nbformat_minor": 2
}
