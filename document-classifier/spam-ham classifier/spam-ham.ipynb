{
 "cells": [
  {
   "cell_type": "code",
   "execution_count": 3,
   "metadata": {
    "collapsed": false
   },
   "outputs": [],
   "source": [
    "from __future__ import print_function, division\n",
    "import nltk\n",
    "import os\n",
    "import random\n",
    "from collections import Counter\n",
    "from nltk import word_tokenize, WordNetLemmatizer\n",
    "from nltk.corpus import stopwords\n",
    "from nltk import NaiveBayesClassifier, classify"
   ]
  },
  {
   "cell_type": "code",
   "execution_count": 12,
   "metadata": {
    "collapsed": true
   },
   "outputs": [],
   "source": [
    "stoplist = stopwords.words('english')   #  words like ['is','this','at'...etc] are not going to be useful during classification , these are called stopwords\n",
    "\n",
    "def init_lists(folder):\n",
    "    a_list = []\n",
    "    file_list = os.listdir(folder)\n",
    "    for a_file in file_list:\n",
    "        f = open(folder + a_file, 'r',encoding='utf-8',errors='ignore')\n",
    "        a_list.append(f.read())\n",
    "    f.close()\n",
    "    return a_list   #  a_list contains the text of every email\n",
    "\n",
    "#preprocessing the data\n",
    "def preprocess(sentence):\n",
    "    lemmatizer = WordNetLemmatizer()   # lemmatization is converting strings like 'multiplying' to 'multiply'\n",
    "    return [lemmatizer.lemmatize(word.lower()) for word in word_tokenize(sentence) if not word in stoplist] \n",
    "            # lemmatize, convert to lower case, tokenize and then remove the stopwords\n",
    "\n",
    "\n",
    "#extracting the features\n",
    "def get_features(text, setting):\n",
    "    if setting=='bow': # using bag of words as the feature, returns number of times each word appears in the email/text.\n",
    "        return {word: count for word, count in Counter(preprocess(text)).items()}\n",
    "    else:\n",
    "        return {word: True for word in preprocess(text)}\n",
    "\n",
    "#training using naive bayes classifier\n",
    "def train(features, samples_proportion):\n",
    "    train_size = int(len(features) * samples_proportion)\n",
    "    # initialise the training and test sets\n",
    "    train_set, test_set = features[:train_size], features[train_size:]\n",
    "    #print ('Training set size = ' + str(len(train_set)) + ' emails')\n",
    "    #print ('Test set size = ' + str(len(test_set)) + ' emails')\n",
    "    # train the classifier\n",
    "    classifier = NaiveBayesClassifier.train(train_set)\n",
    "    return train_set, test_set, classifier\n",
    "\n",
    "#testing the model on test_set\n",
    "def evaluate(train_set, test_set, classifier):\n",
    "    # check how the classifier performs on the training and test sets\n",
    "    print ('Accuracy on the training set = ' + str(classify.accuracy(classifier, train_set)))\n",
    "    print ('Accuracy of the test set = ' + str(classify.accuracy(classifier, test_set)))\n",
    "    # check which words are most informative for the classifier\n",
    "    classifier.show_most_informative_features(20)"
   ]
  },
  {
   "cell_type": "code",
   "execution_count": 14,
   "metadata": {
    "collapsed": false
   },
   "outputs": [
    {
     "name": "stdout",
     "output_type": "stream",
     "text": [
      "Accuracy on the training set = 0.9596228239845261\n",
      "Accuracy of the test set = 0.9458937198067633\n",
      "Most Informative Features\n",
      "               forwarded = 1                 ham : spam   =    141.9 : 1.0\n",
      "                     nom = 1                 ham : spam   =     89.4 : 1.0\n",
      "                      xl = 2                 ham : spam   =     87.1 : 1.0\n",
      "                    pain = 1                spam : ham    =     85.4 : 1.0\n",
      "                   cheap = 1                spam : ham    =     78.8 : 1.0\n",
      "                      ex = 1                spam : ham    =     75.5 : 1.0\n",
      "                    2005 = 1                spam : ham    =     72.1 : 1.0\n",
      "                   meter = 1                 ham : spam   =     71.3 : 1.0\n",
      "                creative = 1                spam : ham    =     68.8 : 1.0\n",
      "                     ibm = 1                spam : ham    =     65.5 : 1.0\n",
      "                     sex = 1                spam : ham    =     65.5 : 1.0\n",
      "               trademark = 1                spam : ham    =     62.2 : 1.0\n",
      "                congress = 1                spam : ham    =     58.9 : 1.0\n",
      "               complaint = 1                spam : ham    =     58.9 : 1.0\n",
      "                    sony = 1                spam : ham    =     58.9 : 1.0\n",
      "             legislation = 1                spam : ham    =     57.2 : 1.0\n",
      "                   cisco = 1                spam : ham    =     55.6 : 1.0\n",
      "                  weight = 1                spam : ham    =     53.9 : 1.0\n",
      "              compliance = 1                spam : ham    =     52.2 : 1.0\n",
      "                 charset = 1                spam : ham    =     50.6 : 1.0\n"
     ]
    }
   ],
   "source": [
    "if __name__ == '__main__' :\n",
    "    # initialise the data\n",
    "    spam = init_lists('/home/harsha/Downloads/spam_classifier/data/spam/')\n",
    "    ham = init_lists('/home/harsha/Downloads/spam_classifier/data/ham/')\n",
    "    test = init_lists('/home/harsha/Downloads/spam_classifier/data/test/')\n",
    "    all_emails = [(email, 'spam') for email in spam]\n",
    "    all_emails += [(email, 'ham') for email in ham]\n",
    "    random.shuffle(all_emails)\n",
    "    #print ('Corpus size = ' + str(len(all_emails)) + ' emails')\n",
    "\n",
    "    # extract the features\n",
    "    all_features = [(get_features(email, 'bow'), label) for (email, label) in all_emails]\n",
    "    #print ('Collected ' + str(len(all_features)) + ' feature sets')\n",
    "\n",
    "    # train the classifier\n",
    "    \n",
    "    train_set, test_set, classifier = train(all_features, 0.8)\n",
    "\n",
    "    # evaluate its performance\n",
    "    evaluate(train_set, test_set, classifier)"
   ]
  },
  {
   "cell_type": "code",
   "execution_count": 17,
   "metadata": {
    "collapsed": false
   },
   "outputs": [],
   "source": [
    "predictions = []\n",
    "for email in test:\n",
    "    predict = classifier.classify(get_features(email,'bow'))\n",
    "    predictions.append(predict)"
   ]
  },
  {
   "cell_type": "code",
   "execution_count": 18,
   "metadata": {
    "collapsed": false
   },
   "outputs": [
    {
     "data": {
      "text/plain": [
       "['spam']"
      ]
     },
     "execution_count": 18,
     "metadata": {},
     "output_type": "execute_result"
    }
   ],
   "source": [
    "predictions"
   ]
  }
 ],
 "metadata": {
  "kernelspec": {
   "display_name": "Python 3",
   "language": "python",
   "name": "python3"
  },
  "language_info": {
   "codemirror_mode": {
    "name": "ipython",
    "version": 3
   },
   "file_extension": ".py",
   "mimetype": "text/x-python",
   "name": "python",
   "nbconvert_exporter": "python",
   "pygments_lexer": "ipython3",
   "version": "3.6.0"
  }
 },
 "nbformat": 4,
 "nbformat_minor": 2
}
